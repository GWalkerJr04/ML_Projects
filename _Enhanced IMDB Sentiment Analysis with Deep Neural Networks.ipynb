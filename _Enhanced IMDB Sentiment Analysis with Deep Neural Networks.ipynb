{
 "cells": [
  {
   "cell_type": "markdown",
   "id": "852af8a1",
   "metadata": {},
   "source": [
    "## Grant E. Walker Jr\n",
    "## Project: Enhanced IMDB Sentiment Analysis with Deep Neural Networks"
   ]
  },
  {
   "cell_type": "code",
   "execution_count": 21,
   "id": "fcf04a55",
   "metadata": {},
   "outputs": [],
   "source": [
    "from keras.datasets import imdb\n",
    "\n",
    "# Load the IMDB dataset\n",
    "(train_data, train_labels), (test_data, test_labels) = imdb.load_data(num_words=10000)"
   ]
  },
  {
   "cell_type": "markdown",
   "id": "cf223936",
   "metadata": {},
   "source": [
    "## Preprocess the Data"
   ]
  },
  {
   "cell_type": "code",
   "execution_count": 22,
   "id": "4f7cf168",
   "metadata": {},
   "outputs": [],
   "source": [
    "from tensorflow.keras.preprocessing.sequence import pad_sequences\n",
    "\n",
    "# Pad sequences to ensure uniform length\n",
    "maxlen = 100  # Maximum sequence length\n",
    "train_data = pad_sequences(train_data, maxlen=maxlen)\n",
    "test_data = pad_sequences(test_data, maxlen=maxlen)"
   ]
  },
  {
   "cell_type": "markdown",
   "id": "f12faabe",
   "metadata": {},
   "source": [
    "## Define the Model"
   ]
  },
  {
   "cell_type": "code",
   "execution_count": 23,
   "id": "ef17ee0a",
   "metadata": {},
   "outputs": [],
   "source": [
    "from keras.models import Sequential\n",
    "from keras.layers import Embedding, Flatten, Dense, Dropout\n",
    "\n",
    "model = Sequential()\n",
    "model.add(Embedding(10000, 16, input_length=maxlen))\n",
    "model.add(Flatten())\n",
    "model.add(Dense(128, activation='relu'))  # Add a dense layer with 128 units and ReLU activation\n",
    "model.add(Dropout(0.5))  # Add a dropout layer with 50% dropout rate\n",
    "model.add(Dense(64, activation='relu'))   # Add another dense layer with 64 units and ReLU activation\n",
    "model.add(Dropout(0.3))  # Add a dropout layer with 30% dropout rate\n",
    "model.add(Dense(1, activation='sigmoid'))  # Output layer with sigmoid activation for binary classification"
   ]
  },
  {
   "cell_type": "markdown",
   "id": "2f3444f6",
   "metadata": {},
   "source": [
    "## Compile the Model"
   ]
  },
  {
   "cell_type": "code",
   "execution_count": 24,
   "id": "8c776800",
   "metadata": {},
   "outputs": [],
   "source": [
    "model.compile(optimizer='rmsprop', loss='binary_crossentropy', metrics=['accuracy'])"
   ]
  },
  {
   "cell_type": "markdown",
   "id": "48bbae5b",
   "metadata": {},
   "source": [
    "## Train the Model"
   ]
  },
  {
   "cell_type": "code",
   "execution_count": 25,
   "id": "3abc57ad",
   "metadata": {},
   "outputs": [
    {
     "name": "stdout",
     "output_type": "stream",
     "text": [
      "Epoch 1/10\n",
      "625/625 [==============================] - 2s 3ms/step - loss: 0.4944 - accuracy: 0.7400 - val_loss: 0.3514 - val_accuracy: 0.8406\n",
      "Epoch 2/10\n",
      "625/625 [==============================] - 2s 3ms/step - loss: 0.2608 - accuracy: 0.8959 - val_loss: 0.3465 - val_accuracy: 0.8506\n",
      "Epoch 3/10\n",
      "625/625 [==============================] - 2s 3ms/step - loss: 0.1452 - accuracy: 0.9464 - val_loss: 0.4808 - val_accuracy: 0.8310\n",
      "Epoch 4/10\n",
      "625/625 [==============================] - 2s 3ms/step - loss: 0.0628 - accuracy: 0.9798 - val_loss: 0.6627 - val_accuracy: 0.8222\n",
      "Epoch 5/10\n",
      "625/625 [==============================] - 2s 3ms/step - loss: 0.0212 - accuracy: 0.9936 - val_loss: 1.1019 - val_accuracy: 0.8182\n",
      "Epoch 6/10\n",
      "625/625 [==============================] - 2s 3ms/step - loss: 0.0081 - accuracy: 0.9979 - val_loss: 1.5349 - val_accuracy: 0.8142\n",
      "Epoch 7/10\n",
      "625/625 [==============================] - 2s 3ms/step - loss: 0.0039 - accuracy: 0.9988 - val_loss: 1.8992 - val_accuracy: 0.8130\n",
      "Epoch 8/10\n",
      "625/625 [==============================] - 2s 3ms/step - loss: 0.0024 - accuracy: 0.9993 - val_loss: 2.2348 - val_accuracy: 0.8146\n",
      "Epoch 9/10\n",
      "625/625 [==============================] - 2s 3ms/step - loss: 0.0019 - accuracy: 0.9994 - val_loss: 2.3387 - val_accuracy: 0.8164\n",
      "Epoch 10/10\n",
      "625/625 [==============================] - 2s 3ms/step - loss: 0.0019 - accuracy: 0.9994 - val_loss: 2.5197 - val_accuracy: 0.8124\n"
     ]
    }
   ],
   "source": [
    "history = model.fit(train_data, train_labels, epochs=10, batch_size=32, validation_split=0.2)"
   ]
  },
  {
   "cell_type": "markdown",
   "id": "725e67b1",
   "metadata": {},
   "source": [
    "## Evaluate the Model"
   ]
  },
  {
   "cell_type": "code",
   "execution_count": 26,
   "id": "61832309",
   "metadata": {},
   "outputs": [
    {
     "name": "stdout",
     "output_type": "stream",
     "text": [
      "782/782 [==============================] - 1s 2ms/step - loss: 2.6341 - accuracy: 0.8123\n",
      "Test Loss: 2.634146213531494\n",
      "Test Accuracy: 0.8123199939727783\n"
     ]
    }
   ],
   "source": [
    "loss, accuracy = model.evaluate(test_data, test_labels)\n",
    "print(\"Test Loss:\", loss)\n",
    "print(\"Test Accuracy:\", accuracy)"
   ]
  }
 ],
 "metadata": {
  "kernelspec": {
   "display_name": "Python 3 (ipykernel)",
   "language": "python",
   "name": "python3"
  },
  "language_info": {
   "codemirror_mode": {
    "name": "ipython",
    "version": 3
   },
   "file_extension": ".py",
   "mimetype": "text/x-python",
   "name": "python",
   "nbconvert_exporter": "python",
   "pygments_lexer": "ipython3",
   "version": "3.7.15"
  }
 },
 "nbformat": 4,
 "nbformat_minor": 5
}
